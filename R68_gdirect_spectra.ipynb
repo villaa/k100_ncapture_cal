{
 "cells": [
  {
   "cell_type": "code",
   "execution_count": 1,
   "metadata": {},
   "outputs": [
    {
     "name": "stderr",
     "output_type": "stream",
     "text": [
      "/home/phys/villaa/python/anaconda3/envs/py365/lib/python3.6/importlib/_bootstrap.py:219: ImportWarning: can't resolve package from __spec__ or __package__, falling back on __name__ and __path__\n",
      "  return f(*args, **kwds)\n",
      "/home/phys/villaa/python/anaconda3/envs/py365/lib/python3.6/importlib/_bootstrap.py:219: RuntimeWarning: numpy.dtype size changed, may indicate binary incompatibility. Expected 96, got 88\n",
      "  return f(*args, **kwds)\n"
     ]
    }
   ],
   "source": [
    "import numpy as np\n",
    "import pandas as pd\n",
    "import sima2py as sapy"
   ]
  },
  {
   "cell_type": "code",
   "execution_count": 2,
   "metadata": {
    "scrolled": false
   },
   "outputs": [],
   "source": [
    "#this is great, but I need to be able to get more events, that means analyzing/skimming multiple files\n",
    "import re\n",
    "\n",
    "#fileregex = re.compile('Run68_gdirect_bknd_R68_PuBe_0x0006_1M_155076\\\\S+.txt')\n",
    "#dirpath,f = sapy.listFiles('/data/chocula/villaa/k100Sim_Data/captureCal/',fileregex)"
   ]
  },
  {
   "cell_type": "code",
   "execution_count": 3,
   "metadata": {},
   "outputs": [],
   "source": [
    "#print(np.size(f))"
   ]
  },
  {
   "cell_type": "markdown",
   "metadata": {},
   "source": [
    "# Full Skim of this Data (w/ and w/o Captures)\n",
    "\n",
    "I've now made large skims of the data with approximately 22 hrs of livetime assuming 1M n/s from the Pu/Be source. \n",
    "\n",
    " "
   ]
  },
  {
   "cell_type": "code",
   "execution_count": 4,
   "metadata": {},
   "outputs": [
    {
     "name": "stdout",
     "output_type": "stream",
     "text": [
      "(211370, 22)\n",
      "(51420, 22)\n"
     ]
    }
   ],
   "source": [
    "#play around with some hits data stored in h5 file\n",
    "#===============to suppress h5py warning see:\n",
    "#https://github.com/h5py/h5py/issues/961\n",
    "import warnings\n",
    "warnings.simplefilter(action='ignore', category=FutureWarning)\n",
    "import h5py\n",
    "warnings.resetwarnings()\n",
    "\n",
    "f_nocap = h5py.File(\"/data/chocula/villaa/k100Sim_Data/captureCalhdf5/R68_gdirect_testskim_megahighstat_nocap_new.h5\",\"r\")\n",
    "    \n",
    "data_nocap = f_nocap['geant4/hits']\n",
    "\n",
    "f_nocap_er = h5py.File(\"/data/chocula/villaa/k100Sim_Data/captureCalhdf5/R68_gdirect_testskim_megahighstat_nocap_er_lowe_new.h5\",\"r\")\n",
    "    \n",
    "data_nocap_er = f_nocap_er['geant4/hits']\n",
    "\n",
    "print(np.shape(data_nocap))\n",
    "print(np.shape(data_nocap_er))"
   ]
  },
  {
   "cell_type": "code",
   "execution_count": null,
   "metadata": {},
   "outputs": [],
   "source": [
    "#now make a dataframe with the restricted data\n",
    "nr_data_nocap = data_nocap[:,[0,4,5,6,21]]\n",
    "nr_dataframe_nocap = pd.DataFrame(data=nr_data_nocap)\n",
    "er_data_nocap = data_nocap_er[:,[0,4,5,6,21]]\n",
    "er_dataframe_nocap = pd.DataFrame(data=er_data_nocap)\n",
    "\n",
    "#print(nr_dataframe)\n",
    "\n",
    "groupbyvec=[0]\n",
    "#print(np.max(nr_dataframe.groupby([0,1],axis=0).size()))\n",
    "    \n",
    "max_vec_nocap = np.max(nr_dataframe_nocap.groupby(groupbyvec,axis=0).size())\n",
    "\n",
    "evec_nocap = np.zeros((0,max_vec_nocap))\n",
    "nhit_nocap = np.zeros((0,1))\n",
    "\n",
    "for i in nr_dataframe_nocap.groupby(groupbyvec,axis=0)[3].apply(list):\n",
    "    #print(i)\n",
    "    #print(np.shape(i))\n",
    "    vector = np.zeros((1,max_vec_nocap))\n",
    "    #print(np.shape(vector[0,0:np.shape(i)[0]]))\n",
    "    vector[0,0:np.shape(i)[0]] = np.transpose(np.asarray(i))\n",
    "    evec_nocap = np.append(evec_nocap,vector*1e6,0) #convert from MeV\n",
    "    nhit_nocap = np.append(nhit_nocap,np.shape(i)[0])\n",
    "    \n",
    "max_vec_nocap_er = np.max(er_dataframe_nocap.groupby(groupbyvec,axis=0).size())\n",
    "\n",
    "evec_nocap_er = np.zeros((0,max_vec_nocap_er))\n",
    "nhit_nocap_er = np.zeros((0,1))\n",
    "\n",
    "print(np.shape(er_dataframe_nocap))\n",
    "print(np.shape(nr_dataframe_nocap))\n",
    "for n,i in enumerate(er_dataframe_nocap.groupby(groupbyvec,axis=0)[3].apply(list)):\n",
    "    #if n>36000: break\n",
    "    #print(i)\n",
    "    #print('{} out of {}'.format(n,np.shape(er_dataframe_nocap)[0]))\n",
    "    #print(np.shape(i))\n",
    "    vector = np.zeros((1,max_vec_nocap_er))\n",
    "    #print(np.shape(vector[0,0:np.shape(i)[0]]))\n",
    "    vector[0,0:np.shape(i)[0]] = np.transpose(np.asarray(i))\n",
    "    #print(np.shape(evec_nocap_er))\n",
    "    #print(np.shape(vector))\n",
    "    #print(vector)\n",
    "    evec_nocap_er = np.append(evec_nocap_er,vector*1e6,0) #convert from MeV\n",
    "    nhit_nocap_er = np.append(nhit_nocap_er,np.shape(i)[0])"
   ]
  },
  {
   "cell_type": "code",
   "execution_count": null,
   "metadata": {},
   "outputs": [],
   "source": [
    "import damic_y as dy \n",
    "\n",
    "#a spline extrapolation to DAMIC data\n",
    "damic_y = dy.getDAMICy()\n",
    "damic_yv = np.vectorize(damic_y) #vectorize it"
   ]
  },
  {
   "cell_type": "code",
   "execution_count": null,
   "metadata": {},
   "outputs": [],
   "source": [
    "print(damic_y(2000))"
   ]
  },
  {
   "cell_type": "code",
   "execution_count": null,
   "metadata": {},
   "outputs": [],
   "source": [
    "#convert evec to eVee\n",
    "V = 120\n",
    "eps = 3.8 #eV for silicon\n",
    "F = 0.1161 #silicon value taken from https://www.sciencedirect.com/science/article/pii/S0168900297009650\n",
    "#evec_ee = (evec + evec*damic_y(evec)*(V/eps))/(1+(V/eps))\n",
    "evec_ee_nocap = (evec_nocap + evec_nocap*damic_y(evec_nocap)*(V/eps))/(1+(V/eps))\n",
    "evec_ee_nocap_er = (evec_nocap_er + evec_nocap_er*(V/eps))/(1+(V/eps))"
   ]
  },
  {
   "cell_type": "code",
   "execution_count": null,
   "metadata": {},
   "outputs": [],
   "source": [
    "#make some histograms\n",
    "\n",
    "xmax = 1000\n",
    "thresh = 0 #at best a 7 eV threshold\n",
    "#sume = np.sum(evec_ee,1)\n",
    "#n,nx = np.histogram(sume[sume>thresh],100,range=(0,xmax))\n",
    "sume_nocap = np.sum(evec_ee_nocap,1)\n",
    "n_nocap,nx_nocap = np.histogram(sume_nocap[sume_nocap>thresh],100,range=(0,xmax))\n",
    "sume_nocap_er = np.sum(evec_ee_nocap_er,1)\n",
    "n_nocap_er,nx_nocap_er = np.histogram(sume_nocap_er[sume_nocap_er>thresh],100,range=(0,xmax))\n",
    "#n_ss,nx_ss = np.histogram(np.sum(nr_energies[nr_hits==1,:],1)*1000,250,range=(0,xmax))\n",
    "#n_ms,nx_ms = np.histogram(np.sum(nr_energies[nr_hits>1,:],1)*1000,250,range=(0,xmax))\n",
    "\n",
    "\n",
    "\n",
    "\n",
    "xc = (nx_nocap[:-1] + nx_nocap[1:]) / 2"
   ]
  },
  {
   "cell_type": "code",
   "execution_count": null,
   "metadata": {},
   "outputs": [],
   "source": [
    "#set up a plot \n",
    "import matplotlib as mpl\n",
    "from matplotlib import pyplot as plt\n",
    "#got smarter about the mpl config: see mplstyles/ directory\n",
    "plt.style.use('standard')"
   ]
  },
  {
   "cell_type": "code",
   "execution_count": null,
   "metadata": {},
   "outputs": [],
   "source": [
    "#fpube = open('data/r68_n125_PuBe_PTOFkeV_1keV_spikesremoved_scan_fmt.txt')\n",
    "fpube = open('data/r68_n125_PuBe_cgood_cmid_final_PTOFkeV_2keV_scan_fmt.txt') #newest version of data\n",
    "fbknd = open('data/r68_n125_bkg_PTOFkeV_1keV_spikesremoved_scan_fmt.txt')\n",
    "#fpube = open('data/r68_n125_PuBe_cgood_PTOFkeV0_1keV_scan_fmt.txt')\n",
    "#fbknd = open('data/r68_n125_Bkg_cgood_PTOFkeV0_1keV_scan_fmt.txt')\n",
    "\n",
    "d = np.asarray([x.split() for x in fpube.readlines()],dtype=np.float)\n",
    "db = np.asarray([x.split() for x in fbknd.readlines()],dtype=np.float)\n",
    "\n",
    "dE = d[:,0]\n",
    "dbE = db[:,0]\n",
    "print(np.shape(dE))\n",
    "print(np.shape(dbE))"
   ]
  },
  {
   "cell_type": "code",
   "execution_count": null,
   "metadata": {},
   "outputs": [],
   "source": [
    "#want to include Nick's measured trigger efficiency (email on 4/11/2019)\n",
    "import scipy.special as special\n",
    "Offset = 0.636\n",
    "E0 = 26.97\n",
    "sigma = 13.77\n",
    "\n",
    "trigeff = lambda x: Offset+(1-Offset)*0.5*(1+special.erf((x-E0)/(2**0.5*sigma)))\n",
    "trigeffv = np.vectorize(trigeff)\n"
   ]
  },
  {
   "cell_type": "code",
   "execution_count": null,
   "metadata": {},
   "outputs": [],
   "source": [
    "#get histogram\n",
    "#emax = 500 #emax in eV\n",
    "emax=1000\n",
    "nbins = 100\n",
    "\n",
    "nd_68,nxd_68 = np.histogram(dE*1000,nbins,range=(0,emax))\n",
    "\n",
    "xcd_68 = (nxd_68[:-1] + nxd_68[1:]) / 2\n",
    "\n",
    "ndb_68,nxdb_68 = np.histogram(dbE*1000,nbins,range=(0,emax))\n",
    "\n",
    "xcdb_68 = (nxdb_68[:-1] + nxdb_68[1:]) / 2\n",
    "\n"
   ]
  },
  {
   "cell_type": "code",
   "execution_count": null,
   "metadata": {},
   "outputs": [],
   "source": [
    "#set up a 1d plot\n",
    "fig,axes = plt.subplots(1,1,figsize=(9.0,8.0),sharex=True)\n",
    "ax1 = axes\n",
    "\n",
    "livefac = (39.1/19.6)*(1.96/1) #livetime fraction estimated from N. Mast see email from March 28 2019.\n",
    "#he estimates 39.1 live hours of data\n",
    "#my simulation corresponds to 22 live hours if 1e6 neutrons/sec\n",
    "#or 11 live hours if 2e6 neutrons/second Pu/Be source. \n",
    "#actually the best estimate for source neutrons is 1.96e6 events/sec, this is where the factor above came from. \n",
    "\n",
    "#print(xc)\n",
    "#print(trigeffv(xc))\n",
    "ymin=10\n",
    "ymax=10000\n",
    "#ax1.step(xc,n*livefac, where='mid',color='k', linestyle='-', \\\n",
    "#         label='all scatters', linewidth=2)\n",
    "ax1.step(xc,trigeffv(xc)*n_nocap*livefac, where='mid',color='royalblue', linestyle='-', \\\n",
    "         label='sim. w/o captures (NR only)', linewidth=2)\n",
    "ax1.step(xc,trigeffv(xc)*n_nocap_er*livefac, where='mid',color='orange', linestyle='-', \\\n",
    "         label='sim. w/o captures (ER only)', linewidth=2)\n",
    "ax1.step(xc,trigeffv(xc)*(n_nocap+n_nocap_er)*livefac, where='mid',color='r', linestyle='-', \\\n",
    "         label='sim. w/o captures (ERs and NRs)', linewidth=2)\n",
    "\n",
    "dlabel='data minus background'\n",
    "#step1, = ax1.step(xcd_68,nd_68-ndb_68, where='mid',color='k', linestyle='-', label=dlabel, linewidth=2)\n",
    "err = np.sqrt(nd_68+ndb_68)\n",
    "ax1.errorbar(xcd_68,nd_68-ndb_68,yerr=[err,err], marker='o', markersize=6, \\\n",
    "             ecolor='k',color='k', linestyle='none', label=dlabel, linewidth=2)\n",
    "\n",
    "\n",
    "\n",
    "\n",
    "#tlabel = 'Thresh. {0} eV$_{{\\mathrm{{ee}}}}$'.format(18)\n",
    "#ax1.axvline(thresh, color='k', linestyle='--', lw=2, alpha=0.8,label=tlabel)\n",
    "#erange_x = np.arange(thresh-sigthr, thresh+sigthr, 0.01)\n",
    "#ax1.fill_between(erange_x, ymin, ymax, facecolor='r', alpha=0.3)\n",
    "\n",
    "ax1.set_yscale('log')\n",
    "ax1.set_xlim(0, xmax) #in pairs\n",
    "ax1.set_ylim(ymin,ymax)\n",
    "ax1.set_xlabel('total deposited energy [eV$_{\\\\mathrm{ee}}$]',**axis_font)\n",
    "ax1.set_ylabel('counts',**axis_font)\n",
    "ax1.grid(True)\n",
    "ax1.yaxis.grid(True,which='minor',linestyle='--')\n",
    "ax1.legend(loc=1,prop={'size':22})\n",
    "\n",
    "for axis in ['top','bottom','left','right']:\n",
    "  ax1.spines[axis].set_linewidth(2)\n",
    "\n",
    "plt.tight_layout()\n",
    "plt.savefig('figures/R68_sim_gdirect_bknd_compare_190412.png')\n",
    "plt.show()"
   ]
  },
  {
   "cell_type": "code",
   "execution_count": null,
   "metadata": {},
   "outputs": [],
   "source": [
    "#make some histograms\n",
    "\n",
    "xmax = 2000\n",
    "thresh = 7 #at best a 7 eV threshold\n",
    "#sume = np.sum(evec_ee,1)\n",
    "#n,nx = np.histogram(sume[sume>thresh],100,range=(0,xmax))\n",
    "sume_nocap = np.sum(evec_ee_nocap,1)\n",
    "n_nocap,nx_nocap = np.histogram(sume_nocap[sume_nocap>thresh],100,range=(0,xmax))\n",
    "sume_nocap_er = np.sum(evec_ee_nocap_er,1)\n",
    "n_nocap_er,nx_nocap_er = np.histogram(sume_nocap_er[sume_nocap_er>thresh],100,range=(0,xmax))\n",
    "#n_ss,nx_ss = np.histogram(np.sum(nr_energies[nr_hits==1,:],1)*1000,250,range=(0,xmax))\n",
    "#n_ms,nx_ms = np.histogram(np.sum(nr_energies[nr_hits>1,:],1)*1000,250,range=(0,xmax))\n",
    "\n",
    "\n",
    "\n",
    "\n",
    "xc = (nx_nocap[:-1] + nx_nocap[1:]) / 2"
   ]
  },
  {
   "cell_type": "code",
   "execution_count": null,
   "metadata": {},
   "outputs": [],
   "source": [
    "#get histogram\n",
    "#emax = 500 #emax in eV\n",
    "emax=2000\n",
    "nbins = 100\n",
    "\n",
    "nd_68,nxd_68 = np.histogram(dE*1000,nbins,range=(0,emax))\n",
    "\n",
    "xcd_68 = (nxd_68[:-1] + nxd_68[1:]) / 2\n",
    "\n",
    "ndb_68,nxdb_68 = np.histogram(dbE*1000,nbins,range=(0,emax))\n",
    "\n",
    "xcdb_68 = (nxdb_68[:-1] + nxdb_68[1:]) / 2"
   ]
  },
  {
   "cell_type": "code",
   "execution_count": null,
   "metadata": {},
   "outputs": [],
   "source": [
    "#set up a 1d plot\n",
    "fig,axes = plt.subplots(1,1,figsize=(9.0,8.0),sharex=True)\n",
    "ax1 = axes\n",
    "\n",
    "livefac = (39.1/19.6)*(1.96/1) #livetime fraction estimated from N. Mast see email from March 28 2019.\n",
    "#he estimates 39.1 live hours of data\n",
    "#my simulation corresponds to 22 live hours if 1e6 neutrons/sec\n",
    "#or 11 live hours if 2e6 neutrons/second Pu/Be source. \n",
    "#actually the best estimate for source neutrons is 1.96e6 events/sec, this is where the factor above came from. \n",
    "\n",
    "ymin=10\n",
    "ymax=100000\n",
    "#ax1.step(xc,n*livefac, where='mid',color='k', linestyle='-', \\\n",
    "#         label='all scatters', linewidth=2)\n",
    "ax1.step(xc,n_nocap*livefac, where='mid',color='royalblue', linestyle='-', \\\n",
    "         label='sim. w/o captures (NR only)', linewidth=2)\n",
    "ax1.step(xc,n_nocap_er*livefac, where='mid',color='orange', linestyle='-', \\\n",
    "         label='sim. w/o captures (ER only)', linewidth=2)\n",
    "ax1.step(xc,(n_nocap+n_nocap_er)*livefac, where='mid',color='r', linestyle='-', \\\n",
    "         label='sim. w/o captures (ERs and NRs)', linewidth=2)\n",
    "\n",
    "dlabel='data minus background'\n",
    "#step1, = ax1.step(xcd_68,nd_68-ndb_68, where='mid',color='k', linestyle='-', label=dlabel, linewidth=2)\n",
    "err = np.sqrt(nd_68+ndb_68)\n",
    "ax1.errorbar(xcd_68,nd_68-ndb_68,yerr=[err,err], marker='o', markersize=6, \\\n",
    "             ecolor='k',color='k', linestyle='none', label=dlabel, linewidth=2)\n",
    "\n",
    "\n",
    "\n",
    "\n",
    "#tlabel = 'Thresh. {0} eV$_{{\\mathrm{{ee}}}}$'.format(18)\n",
    "#ax1.axvline(thresh, color='k', linestyle='--', lw=2, alpha=0.8,label=tlabel)\n",
    "#erange_x = np.arange(thresh-sigthr, thresh+sigthr, 0.01)\n",
    "#ax1.fill_between(erange_x, ymin, ymax, facecolor='r', alpha=0.3)\n",
    "\n",
    "ax1.set_yscale('log')\n",
    "ax1.set_xlim(0, xmax) #in pairs\n",
    "ax1.set_ylim(ymin,ymax)\n",
    "ax1.set_xlabel('total deposited energy [eV$_{\\\\mathrm{ee}}$]',**axis_font)\n",
    "ax1.set_ylabel('counts',**axis_font)\n",
    "ax1.grid(True)\n",
    "ax1.yaxis.grid(True,which='minor',linestyle='--')\n",
    "#ax1.legend(loc=1,prop={'size':22})\n",
    "\n",
    "for axis in ['top','bottom','left','right']:\n",
    "  ax1.spines[axis].set_linewidth(2)\n",
    "\n",
    "plt.tight_layout()\n",
    "plt.savefig('figures/R68_sim_gdirect_bknd_compare_2keV_190412.png')\n",
    "plt.show()"
   ]
  },
  {
   "cell_type": "code",
   "execution_count": null,
   "metadata": {},
   "outputs": [],
   "source": []
  }
 ],
 "metadata": {
  "kernelspec": {
   "display_name": "Python [conda env:py365]",
   "language": "python",
   "name": "conda-env-py365-py"
  },
  "language_info": {
   "codemirror_mode": {
    "name": "ipython",
    "version": 3
   },
   "file_extension": ".py",
   "mimetype": "text/x-python",
   "name": "python",
   "nbconvert_exporter": "python",
   "pygments_lexer": "ipython3",
   "version": "3.6.5"
  }
 },
 "nbformat": 4,
 "nbformat_minor": 2
}
