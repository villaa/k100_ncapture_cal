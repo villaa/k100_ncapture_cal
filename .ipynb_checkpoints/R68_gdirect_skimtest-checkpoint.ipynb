{
 "cells": [
  {
   "cell_type": "code",
   "execution_count": 1,
   "metadata": {},
   "outputs": [],
   "source": [
    "import numpy as np\n",
    "import pandas as pd\n",
    "import sima2py as sapy"
   ]
  },
  {
   "cell_type": "code",
   "execution_count": 2,
   "metadata": {
    "scrolled": false
   },
   "outputs": [],
   "source": [
    "#this is great, but I need to be able to get more events, that means analyzing/skimming multiple files\n",
    "import re\n",
    "\n",
    "#fileregex = re.compile('Run68_gdirect_bknd_R68_PuBe_0x0006_1M_155076\\\\S+.txt')\n",
    "#dirpath,f = sapy.listFiles('/data/chocula/villaa/k100Sim_Data/captureCal/',fileregex)"
   ]
  },
  {
   "cell_type": "code",
   "execution_count": 3,
   "metadata": {},
   "outputs": [],
   "source": [
    "#print(np.size(f))"
   ]
  },
  {
   "cell_type": "markdown",
   "metadata": {},
   "source": [
    "# First Skim of this Data\n",
    "\n",
    "For the first skim of this data I used the command:\n",
    "\n",
    "```./sima2py.py --regex 'Run68_gdirect_bknd_R68_PuBe_0x0006_1M_15507\\S+.txt' --filedir /data/chocula/villaa/k100Sim_Data/captureCal/ --outfile /data/chocula/villaa/k100Sim_Data/captureCalhdf5/R68_gdirect_testskim.h5```\n",
    "\n",
    "This created a file `/data/chocula/villaa/k100Sim_Data/captureCalhdf5/R68_gdirect_testskim.h5` which is about 229Mb and contains approximately 142 live-seconds of data. I need to practice the first skim on this, and then generalize to the larger data sets. "
   ]
  },
  {
   "cell_type": "code",
   "execution_count": 4,
   "metadata": {},
   "outputs": [
    {
     "name": "stdout",
     "output_type": "stream",
     "text": [
      "geant4\n"
     ]
    }
   ],
   "source": [
    "#play around with some hits data stored in h5 file\n",
    "#===============to suppress h5py warning see:\n",
    "#https://github.com/h5py/h5py/issues/961\n",
    "import warnings\n",
    "warnings.simplefilter(action='ignore', category=FutureWarning)\n",
    "import h5py\n",
    "warnings.resetwarnings()\n",
    "f = h5py.File(\"/data/chocula/villaa/k100Sim_Data/captureCalhdf5/R68_gdirect_testskim_superhighstat.h5\",\"r\")\n",
    "\n",
    "for i in f:\n",
    "    print(i)\n",
    "\n",
    "hits = f['geant4/hits']"
   ]
  },
  {
   "cell_type": "code",
   "execution_count": 5,
   "metadata": {},
   "outputs": [
    {
     "name": "stdout",
     "output_type": "stream",
     "text": [
      "(38242, 5)\n",
      "(28104, 10)\n",
      "(28104,)\n",
      "21279.0\n"
     ]
    }
   ],
   "source": [
    "#using the examples above let's get byzantine and make a bad-ass data frame.\n",
    "\n",
    "data=hits\n",
    "#first do some cuts:\n",
    "#first some hit-level cuts\n",
    "cHVDet = np.zeros(np.shape(data)[0],dtype=bool)\n",
    "cZeroEdep = np.zeros(np.shape(data)[0],dtype=bool)\n",
    "cNeutron = np.zeros(np.shape(data)[0],dtype=bool)\n",
    "cGamma = np.zeros(np.shape(data)[0],dtype=bool)\n",
    "cNR = np.zeros(np.shape(data)[0],dtype=bool)\n",
    "\n",
    "cHVDet[data[:,1]==1] = True\n",
    "cZeroEdep[data[:,6]==0] = True\n",
    "cNeutron[data[:,4]==2112] = True\n",
    "cGamma[data[:,4]==22] = True\n",
    "cNR[data[:,4]>3000] = True\n",
    "\n",
    "\n",
    "#now some event-level cuts\n",
    "#evWithHVhits = newev[cHVDet & ~cZeroEdep]\n",
    "#cWithHVHits = np.isin(newev,evWithHVhits)\n",
    "#print(np.sum(cWithHVHits))\n",
    "#print(np.shape(np.unique(evWithHVhits)))\n",
    "\n",
    "\n",
    "#now make a dataframe with the restricted data\n",
    "nr_data = data[:,[0,4,5,6,21]]\n",
    "nr_data = nr_data[cHVDet&~cZeroEdep&cNR,:]\n",
    "print(np.shape(nr_data))\n",
    "nr_dataframe = pd.DataFrame(data=nr_data)\n",
    "\n",
    "#print(nr_dataframe)\n",
    "\n",
    "#print(np.max(nr_dataframe.groupby([0,1],axis=0).size()))\n",
    "max_vec = np.max(nr_dataframe.groupby([0,1],axis=0).size())\n",
    "\n",
    "evec = np.zeros((0,max_vec))\n",
    "nhit = np.zeros((0,1))\n",
    "\n",
    "for i in nr_dataframe.groupby([0,1],axis=0)[3].apply(list):\n",
    "    #print(i)\n",
    "    #print(np.shape(i))\n",
    "    vector = np.zeros((1,max_vec))\n",
    "    #print(np.shape(vector[0,0:np.shape(i)[0]]))\n",
    "    vector[0,0:np.shape(i)[0]] = np.transpose(np.asarray(i))\n",
    "    evec = np.append(evec,vector*1e6,0) #convert from MeV\n",
    "    nhit = np.append(nhit,np.shape(i)[0])\n",
    "    \n",
    "print(np.shape(evec))\n",
    "print(np.shape(nhit))\n",
    "#print(max_vec)\n",
    "#print(np.sum(evec,1))\n",
    "print(np.sum(nhit[nhit==1]))"
   ]
  },
  {
   "cell_type": "code",
   "execution_count": 6,
   "metadata": {},
   "outputs": [
    {
     "name": "stdout",
     "output_type": "stream",
     "text": [
      "dict_keys(['xx', 'yy', 'ex', 'ey'])\n"
     ]
    }
   ],
   "source": [
    "import damic_y as dy \n",
    "\n",
    "#a spline extrapolation to DAMIC data\n",
    "damic_y = dy.getDAMICy()\n",
    "damic_yv = np.vectorize(damic_y) #vectorize it"
   ]
  },
  {
   "cell_type": "code",
   "execution_count": 7,
   "metadata": {},
   "outputs": [
    {
     "data": {
      "text/plain": [
       "'1.16.2'"
      ]
     },
     "execution_count": 7,
     "metadata": {},
     "output_type": "execute_result"
    }
   ],
   "source": [
    "np.version.version"
   ]
  },
  {
   "cell_type": "markdown",
   "metadata": {},
   "source": [
    "The above numpy version is relevant because apparently it gives this warning:\n",
    "\n",
    "https://github.com/numpy/numpy/issues/11788\n",
    "\n",
    "Apparently it is fixed in numpy 1.15. "
   ]
  },
  {
   "cell_type": "code",
   "execution_count": 8,
   "metadata": {},
   "outputs": [
    {
     "name": "stdout",
     "output_type": "stream",
     "text": [
      "0.1595234066959043\n"
     ]
    }
   ],
   "source": [
    "print(damic_y(2000))"
   ]
  },
  {
   "cell_type": "code",
   "execution_count": 9,
   "metadata": {},
   "outputs": [],
   "source": [
    "#convert evec to eVee\n",
    "V = 120\n",
    "eps = 3.8 #eV for silicon\n",
    "F = 0.1161 #silicon value taken from https://www.sciencedirect.com/science/article/pii/S0168900297009650\n",
    "evec_ee = (evec + evec*damic_y(evec)*(V/eps))/(1+(V/eps))"
   ]
  },
  {
   "cell_type": "code",
   "execution_count": 10,
   "metadata": {},
   "outputs": [],
   "source": [
    "#make some histograms\n",
    "\n",
    "xmax = 1000\n",
    "thresh = 7 #at best a 7 eV threshold\n",
    "sume = np.sum(evec_ee,1)\n",
    "n,nx = np.histogram(sume[sume>thresh],200,range=(0,xmax))\n",
    "#n_ss,nx_ss = np.histogram(np.sum(nr_energies[nr_hits==1,:],1)*1000,250,range=(0,xmax))\n",
    "#n_ms,nx_ms = np.histogram(np.sum(nr_energies[nr_hits>1,:],1)*1000,250,range=(0,xmax))\n",
    "\n",
    "\n",
    "\n",
    "\n",
    "xc = (nx[:-1] + nx[1:]) / 2"
   ]
  },
  {
   "cell_type": "code",
   "execution_count": 11,
   "metadata": {},
   "outputs": [],
   "source": [
    "#set up a plot \n",
    "import matplotlib as mpl\n",
    "from matplotlib import pyplot as plt\n",
    "#got smarter about the mpl config: see mplstyles/ directory\n",
    "plt.style.use('standard')"
   ]
  },
  {
   "cell_type": "code",
   "execution_count": 12,
   "metadata": {},
   "outputs": [
    {
     "data": {
      "image/png": "[encoded data removed]",
      "text/plain": [
       "<Figure size 648x576 with 1 Axes>"
      ]
     },
     "metadata": {},
     "output_type": "display_data"
    }
   ],
   "source": [
    "#set up a 1d plot\n",
    "fig,axes = plt.subplots(1,1,figsize=(9.0,8.0),sharex=True)\n",
    "ax1 = axes\n",
    "\n",
    "ymin=0.1\n",
    "ymax=1000\n",
    "ax1.step(xc,n, where='mid',color='k', linestyle='-', \\\n",
    "         label='all scatters', linewidth=2)\n",
    "\n",
    "\n",
    "\n",
    "\n",
    "#tlabel = 'Thresh. {0} eV$_{{\\mathrm{{ee}}}}$'.format(18)\n",
    "#ax1.axvline(thresh, color='k', linestyle='--', lw=2, alpha=0.8,label=tlabel)\n",
    "#erange_x = np.arange(thresh-sigthr, thresh+sigthr, 0.01)\n",
    "#ax1.fill_between(erange_x, ymin, ymax, facecolor='r', alpha=0.3)\n",
    "\n",
    "ax1.set_yscale('log')\n",
    "ax1.set_xlim(0, xmax) #in pairs\n",
    "ax1.set_ylim(ymin,ymax)\n",
    "ax1.set_xlabel('total deposited energy [eV$_{\\\\mathrm{ee}}$]',**axis_font)\n",
    "ax1.set_ylabel('counts',**axis_font)\n",
    "ax1.grid(True)\n",
    "ax1.yaxis.grid(True,which='minor',linestyle='--')\n",
    "ax1.legend(loc=1,prop={'size':22})\n",
    "\n",
    "for axis in ['top','bottom','left','right']:\n",
    "  ax1.spines[axis].set_linewidth(2)\n",
    "\n",
    "plt.tight_layout()\n",
    "plt.savefig('figures/R68_gdirect_firstNRbknd_nores.png')\n",
    "plt.show()"
   ]
  },
  {
   "cell_type": "code",
   "execution_count": null,
   "metadata": {},
   "outputs": [],
   "source": []
  }
 ],
 "metadata": {
  "kernelspec": {
   "display_name": "Python [conda env:py365]",
   "language": "python",
   "name": "conda-env-py365-py"
  },
  "language_info": {
   "codemirror_mode": {
    "name": "ipython",
    "version": 3
   },
   "file_extension": ".py",
   "mimetype": "text/x-python",
   "name": "python",
   "nbconvert_exporter": "python",
   "pygments_lexer": "ipython3",
   "version": "3.6.5"
  }
 },
 "nbformat": 4,
 "nbformat_minor": 2
}
