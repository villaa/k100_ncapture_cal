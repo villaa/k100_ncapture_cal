{
 "cells": [
  {
   "cell_type": "code",
   "execution_count": 1,
   "metadata": {},
   "outputs": [],
   "source": [
    "import numpy as np\n",
    "import pandas as pd\n",
    "import sima2py as sapy"
   ]
  },
  {
   "cell_type": "code",
   "execution_count": 6,
   "metadata": {
    "scrolled": false
   },
   "outputs": [
    {
     "name": "stdout",
     "output_type": "stream",
     "text": [
      "['Run68_gdirect_bknd_R68_PuBe_0x0006_1M_1550748424_000_000.txt', 'Run68_gdirect_bknd_R68_PuBe_0x0006_1M_1550723674_000_000.txt', 'Run68_gdirect_bknd_R68_PuBe_0x0006_1M_1550713990_000_000.txt', 'Run68_gdirect_bknd_R68_PuBe_0x0006_1M_1550779886_000_000.txt', 'Run68_gdirect_bknd_R68_PuBe_0x0006_1M_1550722626_000_000.txt', 'Run68_gdirect_bknd_R68_PuBe_0x0006_1M_1550719315_000_000.txt', 'Run68_gdirect_bknd_R68_PuBe_0x0006_1M_1550765618_000_000.txt', 'Run68_gdirect_bknd_R68_PuBe_0x0006_1M_1550759060_000_000.txt', 'Run68_gdirect_bknd_R68_PuBe_0x0006_1M_1550732394_000_000.txt', 'Run68_gdirect_bknd_R68_PuBe_0x0006_1M_1550767758_000_000.txt', 'Run68_gdirect_bknd_R68_PuBe_0x0006_1M_1550723948_000_000.txt', 'Run68_gdirect_bknd_R68_PuBe_0x0006_1M_1550784888_000_000.txt', 'Run68_gdirect_bknd_R68_PuBe_0x0006_1M_1550735789_000_000.txt', 'Run68_gdirect_bknd_R68_PuBe_0x0006_1M_1550793433_000_000.txt', 'Run68_gdirect_bknd_R68_PuBe_0x0006_1M_1550750159_000_000.txt', 'Run68_gdirect_bknd_R68_PuBe_0x0006_1M_1550722468_000_000.txt', 'Run68_gdirect_bknd_R68_PuBe_0x0006_1M_1550773228_000_000.txt', 'Run68_gdirect_bknd_R68_PuBe_0x0006_1M_1550785101_000_000.txt', 'Run68_gdirect_bknd_R68_PuBe_0x0006_1M_1550727161_000_000.txt', 'Run68_gdirect_bknd_R68_PuBe_0x0006_1M_1550710825_000_000.txt', 'Run68_gdirect_bknd_R68_PuBe_0x0006_1M_1550751601_000_000.txt', 'Run68_gdirect_bknd_R68_PuBe_0x0006_1M_1550786912_000_000.txt', 'Run68_gdirect_bknd_R68_PuBe_0x0006_1M_1550783130_000_000.txt', 'Run68_gdirect_bknd_R68_PuBe_0x0006_1M_1550781947_000_000.txt', 'Run68_gdirect_bknd_R68_PuBe_0x0006_1M_1550779083_000_000.txt', 'Run68_gdirect_bknd_R68_PuBe_0x0006_1M_1550707424_000_000.txt', 'Run68_gdirect_bknd_R68_PuBe_0x0006_1M_1550721498_000_000.txt', 'Run68_gdirect_bknd_R68_PuBe_0x0006_1M_1550759890_000_000.txt', 'Run68_gdirect_bknd_R68_PuBe_0x0006_1M_1550762957_000_000.txt', 'Run68_gdirect_bknd_R68_PuBe_0x0006_1M_1550783050_000_000.txt', 'Run68_gdirect_bknd_R68_PuBe_0x0006_1M_1550732296_000_000.txt', 'Run68_gdirect_bknd_R68_PuBe_0x0006_1M_1550739491_000_000.txt', 'Run68_gdirect_bknd_R68_PuBe_0x0006_1M_1550787890_000_000.txt', 'Run68_gdirect_bknd_R68_PuBe_0x0006_1M_1550730110_000_000.txt', 'Run68_gdirect_bknd_R68_PuBe_0x0006_1M_1550792319_000_000.txt', 'Run68_gdirect_bknd_R68_PuBe_0x0006_1M_1550718520_000_000.txt', 'Run68_gdirect_bknd_R68_PuBe_0x0006_1M_1550752600_000_000.txt', 'Run68_gdirect_bknd_R68_PuBe_0x0006_1M_1550799903_000_000.txt', 'Run68_gdirect_bknd_R68_PuBe_0x0006_1M_1550745392_000_000.txt', 'Run68_gdirect_bknd_R68_PuBe_0x0006_1M_1550775631_000_000.txt', 'Run68_gdirect_bknd_R68_PuBe_0x0006_1M_1550740810_000_000.txt', 'Run68_gdirect_bknd_R68_PuBe_0x0006_1M_1550798953_000_000.txt', 'Run68_gdirect_bknd_R68_PuBe_0x0006_1M_1550784817_000_000.txt', 'Run68_gdirect_bknd_R68_PuBe_0x0006_1M_1550711382_000_000.txt', 'Run68_gdirect_bknd_R68_PuBe_0x0006_1M_1550738784_000_000.txt', 'Run68_gdirect_bknd_R68_PuBe_0x0006_1M_1550723991_000_000.txt', 'Run68_gdirect_bknd_R68_PuBe_0x0006_1M_1550707242_000_000.txt', 'Run68_gdirect_bknd_R68_PuBe_0x0006_1M_1550744223_000_000.txt', 'Run68_gdirect_bknd_R68_PuBe_0x0006_1M_1550794954_000_000.txt', 'Run68_gdirect_bknd_R68_PuBe_0x0006_1M_1550728556_000_000.txt', 'Run68_gdirect_bknd_R68_PuBe_0x0006_1M_1550729924_000_000.txt', 'Run68_gdirect_bknd_R68_PuBe_0x0006_1M_1550701429_000_000.txt', 'Run68_gdirect_bknd_R68_PuBe_0x0006_1M_1550704615_000_000.txt', 'Run68_gdirect_bknd_R68_PuBe_0x0006_1M_1550765598_000_000.txt', 'Run68_gdirect_bknd_R68_PuBe_0x0006_1M_1550737450_000_000.txt', 'Run68_gdirect_bknd_R68_PuBe_0x0006_1M_1550751653_000_000.txt', 'Run68_gdirect_bknd_R68_PuBe_0x0006_1M_1550746721_000_000.txt', 'Run68_gdirect_bknd_R68_PuBe_0x0006_1M_1550775598_000_000.txt', 'Run68_gdirect_bknd_R68_PuBe_0x0006_1M_1550723253_000_000.txt', 'Run68_gdirect_bknd_R68_PuBe_0x0006_1M_1550734658_000_000.txt', 'Run68_gdirect_bknd_R68_PuBe_0x0006_1M_1550741614_000_000.txt', 'Run68_gdirect_bknd_R68_PuBe_0x0006_1M_1550775361_000_000.txt', 'Run68_gdirect_bknd_R68_PuBe_0x0006_1M_1550726628_000_000.txt', 'Run68_gdirect_bknd_R68_PuBe_0x0006_1M_1550746063_000_000.txt', 'Run68_gdirect_bknd_R68_PuBe_0x0006_1M_1550758943_000_000.txt', 'Run68_gdirect_bknd_R68_PuBe_0x0006_1M_1550745222_000_000.txt', 'Run68_gdirect_bknd_R68_PuBe_0x0006_1M_1550759641_000_000.txt', 'Run68_gdirect_bknd_R68_PuBe_0x0006_1M_1550780955_000_000.txt', 'Run68_gdirect_bknd_R68_PuBe_0x0006_1M_1550736386_000_000.txt', 'Run68_gdirect_bknd_R68_PuBe_0x0006_1M_1550792172_000_000.txt', 'Run68_gdirect_bknd_R68_PuBe_0x0006_1M_1550784104_000_000.txt', 'Run68_gdirect_bknd_R68_PuBe_0x0006_1M_1550759409_000_000.txt', 'Run68_gdirect_bknd_R68_PuBe_0x0006_1M_1550714819_000_000.txt', 'Run68_gdirect_bknd_R68_PuBe_0x0006_1M_1550708913_000_000.txt', 'Run68_gdirect_bknd_R68_PuBe_0x0006_1M_1550751153_000_000.txt', 'Run68_gdirect_bknd_R68_PuBe_0x0006_1M_1550748485_000_000.txt', 'Run68_gdirect_bknd_R68_PuBe_0x0006_1M_1550784507_000_000.txt', 'Run68_gdirect_bknd_R68_PuBe_0x0006_1M_1550721413_000_000.txt', 'Run68_gdirect_bknd_R68_PuBe_0x0006_1M_1550787579_000_000.txt', 'Run68_gdirect_bknd_R68_PuBe_0x0006_1M_1550770674_000_000.txt', 'Run68_gdirect_bknd_R68_PuBe_0x0006_1M_1550733379_000_000.txt', 'Run68_gdirect_bknd_R68_PuBe_0x0006_1M_1550716304_000_000.txt', 'Run68_gdirect_bknd_R68_PuBe_0x0006_1M_1550734820_000_000.txt', 'Run68_gdirect_bknd_R68_PuBe_0x0006_1M_1550705075_000_000.txt', 'Run68_gdirect_bknd_R68_PuBe_0x0006_1M_1550755963_000_000.txt', 'Run68_gdirect_bknd_R68_PuBe_0x0006_1M_1550729364_000_000.txt', 'Run68_gdirect_bknd_R68_PuBe_0x0006_1M_1550722627_000_000.txt', 'Run68_gdirect_bknd_R68_PuBe_0x0006_1M_1550712389_000_000.txt', 'Run68_gdirect_bknd_R68_PuBe_0x0006_1M_1550787380_000_000.txt', 'Run68_gdirect_bknd_R68_PuBe_0x0006_1M_1550745971_000_000.txt', 'Run68_gdirect_bknd_R68_PuBe_0x0006_1M_1550728657_000_000.txt', 'Run68_gdirect_bknd_R68_PuBe_0x0006_1M_1550711549_000_000.txt', 'Run68_gdirect_bknd_R68_PuBe_0x0006_1M_1550729890_000_000.txt', 'Run68_gdirect_bknd_R68_PuBe_0x0006_1M_1550757290_000_000.txt', 'Run68_gdirect_bknd_R68_PuBe_0x0006_1M_1550715126_000_000.txt', 'Run68_gdirect_bknd_R68_PuBe_0x0006_1M_1550714676_000_000.txt', 'Run68_gdirect_bknd_R68_PuBe_0x0006_1M_1550775088_000_000.txt', 'Run68_gdirect_bknd_R68_PuBe_0x0006_1M_1550742939_000_000.txt', 'Run68_gdirect_bknd_R68_PuBe_0x0006_1M_1550787322_000_000.txt', 'Run68_gdirect_bknd_R68_PuBe_0x0006_1M_1550706628_000_000.txt', 'Run68_gdirect_bknd_R68_PuBe_0x0006_1M_1550788219_000_000.txt', 'Run68_gdirect_bknd_R68_PuBe_0x0006_1M_1550798374_000_000.txt', 'Run68_gdirect_bknd_R68_PuBe_0x0006_1M_1550741759_000_000.txt', 'Run68_gdirect_bknd_R68_PuBe_0x0006_1M_1550790332_000_000.txt', 'Run68_gdirect_bknd_R68_PuBe_0x0006_1M_1550786067_000_000.txt', 'Run68_gdirect_bknd_R68_PuBe_0x0006_1M_1550756558_000_000.txt', 'Run68_gdirect_bknd_R68_PuBe_0x0006_1M_1550741729_000_000.txt', 'Run68_gdirect_bknd_R68_PuBe_0x0006_1M_1550703707_000_000.txt', 'Run68_gdirect_bknd_R68_PuBe_0x0006_1M_1550737687_000_000.txt', 'Run68_gdirect_bknd_R68_PuBe_0x0006_1M_1550744429_000_000.txt', 'Run68_gdirect_bknd_R68_PuBe_0x0006_1M_1550705038_000_000.txt', 'Run68_gdirect_bknd_R68_PuBe_0x0006_1M_1550794222_000_000.txt', 'Run68_gdirect_bknd_R68_PuBe_0x0006_1M_1550767157_000_000.txt', 'Run68_gdirect_bknd_R68_PuBe_0x0006_1M_1550761228_000_000.txt', 'Run68_gdirect_bknd_R68_PuBe_0x0006_1M_1550713476_000_000.txt', 'Run68_gdirect_bknd_R68_PuBe_0x0006_1M_1550747648_000_000.txt', 'Run68_gdirect_bknd_R68_PuBe_0x0006_1M_1550744700_000_000.txt', 'Run68_gdirect_bknd_R68_PuBe_0x0006_1M_1550719138_000_000.txt', 'Run68_gdirect_bknd_R68_PuBe_0x0006_1M_1550750766_000_000.txt', 'Run68_gdirect_bknd_R68_PuBe_0x0006_1M_1550765082_000_000.txt', 'Run68_gdirect_bknd_R68_PuBe_0x0006_1M_1550798348_000_000.txt', 'Run68_gdirect_bknd_R68_PuBe_0x0006_1M_1550709779_000_000.txt', 'Run68_gdirect_bknd_R68_PuBe_0x0006_1M_1550763026_000_000.txt', 'Run68_gdirect_bknd_R68_PuBe_0x0006_1M_1550734534_000_000.txt', 'Run68_gdirect_bknd_R68_PuBe_0x0006_1M_1550788440_000_000.txt', 'Run68_gdirect_bknd_R68_PuBe_0x0006_1M_1550725923_000_000.txt', 'Run68_gdirect_bknd_R68_PuBe_0x0006_1M_1550793744_000_000.txt', 'Run68_gdirect_bknd_R68_PuBe_0x0006_1M_1550744868_000_000.txt', 'Run68_gdirect_bknd_R68_PuBe_0x0006_1M_1550748523_000_000.txt', 'Run68_gdirect_bknd_R68_PuBe_0x0006_1M_1550723516_000_000.txt', 'Run68_gdirect_bknd_R68_PuBe_0x0006_1M_1550745802_000_000.txt', 'Run68_gdirect_bknd_R68_PuBe_0x0006_1M_1550741100_000_000.txt', 'Run68_gdirect_bknd_R68_PuBe_0x0006_1M_1550782282_000_000.txt', 'Run68_gdirect_bknd_R68_PuBe_0x0006_1M_1550715324_000_000.txt', 'Run68_gdirect_bknd_R68_PuBe_0x0006_1M_1550751408_000_000.txt', 'Run68_gdirect_bknd_R68_PuBe_0x0006_1M_1550708127_000_000.txt', 'Run68_gdirect_bknd_R68_PuBe_0x0006_1M_1550722924_000_000.txt', 'Run68_gdirect_bknd_R68_PuBe_0x0006_1M_1550746125_000_000.txt', 'Run68_gdirect_bknd_R68_PuBe_0x0006_1M_1550759346_000_000.txt', 'Run68_gdirect_bknd_R68_PuBe_0x0006_1M_1550746290_000_000.txt', 'Run68_gdirect_bknd_R68_PuBe_0x0006_1M_1550749494_000_000.txt', 'Run68_gdirect_bknd_R68_PuBe_0x0006_1M_1550717741_000_000.txt']\n"
     ]
    }
   ],
   "source": [
    "#this is great, but I need to be able to get more events, that means analyzing/skimming multiple files\n",
    "import re\n",
    "\n",
    "fileregex = re.compile('Run68_gdirect_bknd_R68_PuBe_0x0006_1M_15507\\\\S+.txt')\n",
    "dirpath,f = sapy.listFiles('/data/chocula/villaa/k100Sim_Data/captureCal/',fileregex)"
   ]
  },
  {
   "cell_type": "code",
   "execution_count": 7,
   "metadata": {},
   "outputs": [
    {
     "name": "stdout",
     "output_type": "stream",
     "text": [
      "142\n"
     ]
    }
   ],
   "source": [
    "print(np.size(f))"
   ]
  },
  {
   "cell_type": "markdown",
   "metadata": {},
   "source": [
    "# First Skim of this Data\n",
    "\n",
    "For the first skim of this data I used the command:\n",
    "\n",
    "```./sima2py.py --regex 'Run68_gdirect_bknd_R68_PuBe_0x0006_1M_15507\\S+.txt' --filedir /data/chocula/villaa/k100Sim_Data/captureCal/ --outfile /data/chocula/villaa/k100Sim_Data/captureCalhdf5/R68_gdirect_testskim.h5```\n",
    "\n",
    "This created a file `/data/chocula/villaa/k100Sim_Data/captureCalhdf5/R68_gdirect_testskim.h5` which is about 229Mb and contains approximately 142 live-seconds of data. I need to practice the first skim on this, and then generalize to the larger data sets. "
   ]
  },
  {
   "cell_type": "code",
   "execution_count": 8,
   "metadata": {},
   "outputs": [
    {
     "name": "stdout",
     "output_type": "stream",
     "text": [
      "geant4\n"
     ]
    }
   ],
   "source": [
    "#play around with some hits data stored in h5 file\n",
    "#===============to suppress h5py warning see:\n",
    "#https://github.com/h5py/h5py/issues/961\n",
    "import warnings\n",
    "warnings.simplefilter(action='ignore', category=FutureWarning)\n",
    "import h5py\n",
    "warnings.resetwarnings()\n",
    "f = h5py.File(\"/data/chocula/villaa/k100Sim_Data/captureCalhdf5/R68_gdirect_testskim.h5\",\"r\")\n",
    "\n",
    "for i in f:\n",
    "    print(i)\n",
    "\n",
    "hits = f['geant4/hits']"
   ]
  },
  {
   "cell_type": "code",
   "execution_count": 9,
   "metadata": {},
   "outputs": [
    {
     "name": "stdout",
     "output_type": "stream",
     "text": [
      "(424, 5)\n",
      "(301, 8)\n",
      "(301,)\n",
      "228.0\n"
     ]
    }
   ],
   "source": [
    "#using the examples above let's get byzantine and make a bad-ass data frame.\n",
    "\n",
    "data=hits\n",
    "#first do some cuts:\n",
    "#first some hit-level cuts\n",
    "cHVDet = np.zeros(np.shape(data)[0],dtype=bool)\n",
    "cZeroEdep = np.zeros(np.shape(data)[0],dtype=bool)\n",
    "cNeutron = np.zeros(np.shape(data)[0],dtype=bool)\n",
    "cGamma = np.zeros(np.shape(data)[0],dtype=bool)\n",
    "cNR = np.zeros(np.shape(data)[0],dtype=bool)\n",
    "\n",
    "cHVDet[data[:,1]==1] = True\n",
    "cZeroEdep[data[:,6]==0] = True\n",
    "cNeutron[data[:,4]==2112] = True\n",
    "cGamma[data[:,4]==22] = True\n",
    "cNR[data[:,4]>3000] = True\n",
    "\n",
    "\n",
    "#now some event-level cuts\n",
    "#evWithHVhits = newev[cHVDet & ~cZeroEdep]\n",
    "#cWithHVHits = np.isin(newev,evWithHVhits)\n",
    "#print(np.sum(cWithHVHits))\n",
    "#print(np.shape(np.unique(evWithHVhits)))\n",
    "\n",
    "\n",
    "#now make a dataframe with the restricted data\n",
    "nr_data = data[:,[0,4,5,6,21]]\n",
    "nr_data = nr_data[cHVDet&~cZeroEdep&cNR,:]\n",
    "print(np.shape(nr_data))\n",
    "nr_dataframe = pd.DataFrame(data=nr_data)\n",
    "\n",
    "#print(nr_dataframe)\n",
    "\n",
    "#print(np.max(nr_dataframe.groupby([0,1],axis=0).size()))\n",
    "max_vec = np.max(nr_dataframe.groupby([0,1],axis=0).size())\n",
    "\n",
    "evec = np.zeros((0,max_vec))\n",
    "nhit = np.zeros((0,1))\n",
    "\n",
    "for i in nr_dataframe.groupby([0,1],axis=0)[3].apply(list):\n",
    "    #print(i)\n",
    "    #print(np.shape(i))\n",
    "    vector = np.zeros((1,max_vec))\n",
    "    #print(np.shape(vector[0,0:np.shape(i)[0]]))\n",
    "    vector[0,0:np.shape(i)[0]] = np.transpose(np.asarray(i))\n",
    "    evec = np.append(evec,vector,0)\n",
    "    nhit = np.append(nhit,np.shape(i)[0])\n",
    "    \n",
    "print(np.shape(evec))\n",
    "print(np.shape(nhit))\n",
    "#print(max_vec)\n",
    "#print(np.sum(evec,1))\n",
    "print(np.sum(nhit[nhit==1]))"
   ]
  },
  {
   "cell_type": "code",
   "execution_count": null,
   "metadata": {},
   "outputs": [],
   "source": []
  }
 ],
 "metadata": {
  "kernelspec": {
   "display_name": "Python [conda env:py365]",
   "language": "python",
   "name": "conda-env-py365-py"
  },
  "language_info": {
   "codemirror_mode": {
    "name": "ipython",
    "version": 3
   },
   "file_extension": ".py",
   "mimetype": "text/x-python",
   "name": "python",
   "nbconvert_exporter": "python",
   "pygments_lexer": "ipython3",
   "version": "3.6.5"
  }
 },
 "nbformat": 4,
 "nbformat_minor": 2
}
