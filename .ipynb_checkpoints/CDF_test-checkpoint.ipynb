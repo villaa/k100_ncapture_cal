{
 "cells": [
  {
   "cell_type": "code",
   "execution_count": 7,
   "metadata": {},
   "outputs": [
    {
     "name": "stdout",
     "output_type": "stream",
     "text": [
      "[ 0.   0.1  0.2  0.3  0.4  0.5  0.6  0.7  0.8  0.9  0.   0.   0.   0.   0.\n",
      "  0.   0.   0.   0.   0.   0.   0.   0.   0.   0.   0.   0.   0.   0.   0.\n",
      "  0.   0.   0.   0.   0.   0.   0.   0.   0.   0.   0.   0.   0.   0.   0.\n",
      "  0.   0.   0.   0.   0.   0.   0.   0.   0.   0.   0.   0.   0.   0.   0.\n",
      "  0.   0.   0.   0.   0.   0.   0.   0.   0.   0.   0.   0.   0.   0.   0.\n",
      "  0.   0.   0.   0.   0.   0.   0.   0.   0.   0.   0.   0.   0.   0.   0.\n",
      "  0.   0.   0.   0.   0.   0.   0.   0.   0.   0.   0.   0.   0.   0.   0.\n",
      "  0.   0.   0.   0.   0.   0.   0.   0.   0.   0.   0.   0.   0.   0.   0.\n",
      "  0.   0.   0.   0.   0.   0.   0.   0.   0.   0. ]\n",
      "(130,)\n",
      "(130,)\n",
      "[ 0.          0.005       0.02        0.045       0.08        0.125       0.18\n",
      "  0.245       0.32        0.405       0.5         0.5         0.5         0.5\n",
      "  0.5         0.5         0.5         0.5         0.5         0.5         0.5\n",
      "  0.5         0.5         0.5         0.5         0.5         0.5         0.5\n",
      "  0.5         0.5         0.5         0.5         0.5         0.5         0.5\n",
      "  0.5         0.5         0.49999999  0.5         0.5         0.5         0.5\n",
      "  0.5         0.5         0.5         0.5         0.5         0.5         0.5\n",
      "  0.5         0.5         0.5         0.5         0.5         0.5         0.5\n",
      "  0.5         0.5         0.5         0.5         0.5         0.5         0.5\n",
      "  0.5         0.5         0.5         0.5         0.5         0.5\n",
      "  0.50000001  0.5         0.5         0.5         0.5         0.49999999\n",
      "  0.5         0.5         0.50000001  0.5         0.5         0.5         0.5\n",
      "  0.5         0.5         0.5         0.5         0.5         0.5         0.5\n",
      "  0.5         0.5         0.5         0.5         0.5         0.5         0.5\n",
      "  0.5         0.5         0.5         0.49999999  0.5         0.5         0.5\n",
      "  0.5         0.5         0.5         0.5         0.5         0.5\n",
      "  0.49999987  0.5         0.5         0.5         0.49999997  0.5         0.5\n",
      "  0.5         0.5         0.5         0.5         0.5         0.49999999\n",
      "  0.5         0.5         0.5         0.5         0.5         0.5         0.5\n",
      "  0.5       ]\n"
     ]
    }
   ],
   "source": [
    "import numpy as np\n",
    "import scipy.integrate as integrate\n",
    "\n",
    "#define range\n",
    "dx=0.1\n",
    "X  = np.arange(0,13,dx)\n",
    "\n",
    "#define a piecewise function for the spline\n",
    "ul = 1.0\n",
    "f_pdf = lambda x: np.piecewise(x, [x < ul, x >= ul], [lambda x: x,0])\n",
    "#f_cdf = lambda x: integrate.quad(f_pdf,0,x)\n",
    "f_cdf = np.vectorize(lambda x: integrate.quad(f_pdf,0,x)[0])\n",
    "\n",
    "#print the function evaluations\n",
    "print(f_pdf(X))\n",
    "print(np.shape(X))\n",
    "print(np.shape(f_pdf(X)))\n",
    "print(f_cdf(X))"
   ]
  },
  {
   "cell_type": "markdown",
   "metadata": {
    "collapsed": true
   },
   "source": [
    "\n",
    "See the stack overflow post: \n",
    "https://stackoverflow.com/questions/47188932/creating-a-new-lambda-function-by-integrating\n",
    "\n",
    "for the context of this test.  "
   ]
  },
  {
   "cell_type": "code",
   "execution_count": null,
   "metadata": {
    "collapsed": true
   },
   "outputs": [],
   "source": []
  }
 ],
 "metadata": {
  "kernelspec": {
   "display_name": "Python 3",
   "language": "python",
   "name": "python3"
  },
  "language_info": {
   "codemirror_mode": {
    "name": "ipython",
    "version": 3
   },
   "file_extension": ".py",
   "mimetype": "text/x-python",
   "name": "python",
   "nbconvert_exporter": "python",
   "pygments_lexer": "ipython3",
   "version": "3.6.1"
  }
 },
 "nbformat": 4,
 "nbformat_minor": 2
}
