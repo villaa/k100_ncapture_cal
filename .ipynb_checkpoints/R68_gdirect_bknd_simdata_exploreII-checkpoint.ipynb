{
 "cells": [
  {
   "cell_type": "markdown",
   "metadata": {},
   "source": [
    "# Second-Cut Run 68 $\\gamma$ and Neutron Direct Backgrounds\n",
    "\n",
    "My notebook N-MISC-18-003 shows (pgs 67) simulations that were started to assess the direct gamma and neutron backgrounds for a Pu/Be source running in the K100 Run 68 setup. Specifically testing out the .h5 files created using the scripts mentioned on pg 52 of the above notebook reference. "
   ]
  },
  {
   "cell_type": "code",
   "execution_count": 1,
   "metadata": {},
   "outputs": [
    {
     "name": "stdout",
     "output_type": "stream",
     "text": [
      "geant4\n"
     ]
    }
   ],
   "source": [
    "#play around with some hits data stored in h5 file\n",
    "#===============to suppress h5py warning see:\n",
    "#https://github.com/h5py/h5py/issues/961\n",
    "import warnings\n",
    "warnings.simplefilter(action='ignore', category=FutureWarning)\n",
    "import h5py\n",
    "warnings.resetwarnings()\n",
    "f = h5py.File(\"/data/chocula/villaa/k100Sim_Data/captureCalhdf5/Run68_gdirect_bknd_R68_PuBe_0x0006_1551197784.h5\",\"r\")\n",
    "\n",
    "for i in f:\n",
    "    print(i)\n",
    "\n",
    "hits = f['geant4/hits']"
   ]
  },
  {
   "cell_type": "code",
   "execution_count": 2,
   "metadata": {},
   "outputs": [
    {
     "name": "stdout",
     "output_type": "stream",
     "text": [
      "(21687, 22)\n",
      "[ 3.27000000e+02  1.00100000e+03  1.00062000e+05  0.00000000e+00\n",
      "  2.11200000e+03  2.13291287e-08  0.00000000e+00  7.11570734e-04\n",
      " -6.29334487e-03  1.27301707e-03 -4.21449958e+02  1.20427548e+00\n",
      " -2.87385739e+02  8.80377810e+05  7.44766995e-04 -4.41958150e-03\n",
      "  4.47133564e-03 -4.31153289e+02  5.87855884e+01 -3.45641340e+02\n",
      "  8.39545241e+05  0.00000000e+00]\n"
     ]
    }
   ],
   "source": [
    "import numpy as np\n",
    "print(np.shape(hits))\n",
    "print(hits[0,:])"
   ]
  },
  {
   "cell_type": "code",
   "execution_count": 3,
   "metadata": {},
   "outputs": [
    {
     "name": "stdout",
     "output_type": "stream",
     "text": [
      "[ 0.  0.  0.  0.  0.  0.  0.  0.  0.  0.  0.  0.  0.  0.  0.  0.  0.  0.\n",
      "  0.  0.  0.  0.  0.  0.  0.  0.  0.  0.  0.  0.  0.  0.  0.  0.  0.  0.\n",
      "  0.  0.  0.  0.  0.  0.  0.  0.  0.  0.  0.  0.  0.  0.  0.  0.  0.  0.\n",
      "  0.  0.  0.  0.  0.  0.  1.  2.  2.  2.  2.  2.  2.  3.  3.  3.  3.  3.\n",
      "  3.  4.  4.  4.  4.  4.  4.  4.  4.  4.  4.  4.  4.  4.  4.  4.  4.  4.\n",
      "  4.  4.  4.  5.  5.  5.  6.  6.  6.  6.  6.  6.  7.  7.  8.  8.  8.  8.\n",
      "  8.  8.  8.  8.  8.  8.  8.  8.  8.  8.  8.  8.  8.  8.  8.  8.  8.  8.\n",
      "  8.  8.  8.  8.  8.  8.  8.  8.  8.  8.  9.  9.  9.  9.  9.  9.  9.  9.\n",
      "  9.  9.  9.  9.  9.  9.  9.  9.  9.  9.  9.  9.  9.  9.  9.  9.  9.  9.\n",
      "  9.  9.  9.  9.  9.  9.  9.  9.  9.  9.  9.  9.  9.  9. 10. 10. 10. 10.\n",
      " 10. 10. 11. 11. 11. 11. 11. 12. 12. 12. 12. 12. 12. 13. 13. 13. 13. 13.\n",
      " 13. 13. 13. 13. 13. 13. 13. 13. 13. 13. 13. 13. 13. 13. 13. 13. 13. 13.\n",
      " 13. 13. 13. 13. 13. 14. 14. 14. 14. 15. 15. 16. 16. 16. 16. 16. 16. 16.\n",
      " 16. 16. 16. 16. 16. 16. 16. 16. 16. 16. 16. 16. 16. 16. 16. 16. 16. 16.\n",
      " 16. 16. 16. 17. 17. 17. 17. 17. 17. 17. 17. 17. 17. 17. 17. 17. 17. 17.\n",
      " 17. 17. 17. 17. 17. 17. 17. 17. 17. 17. 17. 17. 17. 17. 17. 17. 17. 17.\n",
      " 17. 17. 17. 17. 17. 17. 17. 17. 17. 17. 17. 17.]\n"
     ]
    }
   ],
   "source": [
    "#try to label events with consecutive and unique labels\n",
    "ev = hits[:,0]\n",
    "\n",
    "diffs = np.append(np.diff(ev),1)\n",
    "diff_divide = np.copy(diffs)\n",
    "diff_divide[diff_divide==0] = 1 #replace some elements with unity\n",
    "diffs = diffs/diff_divide\n",
    "#print(diffs[0:300])\n",
    "#print(diff_divide[0:300])\n",
    "\n",
    "newev = np.cumsum(diffs)\n",
    "print(newev[0:300])"
   ]
  },
  {
   "cell_type": "code",
   "execution_count": 4,
   "metadata": {},
   "outputs": [
    {
     "name": "stdout",
     "output_type": "stream",
     "text": [
      "0\n",
      "(21687,)\n",
      "(21687, 22)\n"
     ]
    }
   ],
   "source": [
    "#select the poly block\n",
    "cPoly = np.zeros(np.shape(hits)[0],dtype=bool)\n",
    "\n",
    "\n",
    "cPoly[(hits[:,1]==1000)] = True\n",
    "print(np.sum(cPoly))\n",
    "print(np.shape(cPoly))\n",
    "print(np.shape(hits))"
   ]
  },
  {
   "cell_type": "code",
   "execution_count": 5,
   "metadata": {},
   "outputs": [],
   "source": [
    "#reminder of file structure\n",
    "#EV  DT  TS  P Type  E1  D3  PX3 PY3 PZ3 X3  Y3  Z3  time3 PX1 PY1 PZ1 X1  Y1  Z1  time1 nCap\n",
    "#python index below\n",
    "#0    1   2 3   4     5   6   7   8   9  10  11  12    13   14  15  16 17  18  19   20    21"
   ]
  },
  {
   "cell_type": "code",
   "execution_count": 6,
   "metadata": {},
   "outputs": [
    {
     "name": "stdout",
     "output_type": "stream",
     "text": [
      "284\n",
      "(20,)\n",
      "(0,)\n",
      "[]\n"
     ]
    }
   ],
   "source": [
    "#I want to find the edges in Y because those are the places the poly surfaces that I'm interested in are.\n",
    "#I can do that by a histogram\n",
    "\n",
    "#first some hit-level cuts\n",
    "cHVDet = np.zeros(np.shape(hits)[0],dtype=bool)\n",
    "cZeroEdep = np.zeros(np.shape(hits)[0],dtype=bool)\n",
    "cNeutron = np.zeros(np.shape(hits)[0],dtype=bool)\n",
    "cGamma = np.zeros(np.shape(hits)[0],dtype=bool)\n",
    "cPY3neg = np.zeros(np.shape(hits)[0],dtype=bool)\n",
    "cWestYPolyEdge = np.zeros(np.shape(hits)[0],dtype=bool)\n",
    "\n",
    "cHVDet[hits[:,1]==1] = True\n",
    "cZeroEdep[hits[:,6]==0] = True\n",
    "cNeutron[hits[:,4]==2112] = True\n",
    "cGamma[hits[:,4]==22] = True\n",
    "cPY3neg[hits[:,8]<0] = True #going in y direction away from barrel source\n",
    "cWestYPolyEdge[hits[:,11]==330.2] = True #right at the West poly edge closest to cryostat\n",
    "\n",
    "#now some event-level cuts\n",
    "evWithHVhits = newev[cHVDet & ~cZeroEdep]\n",
    "cWithHVHits = np.isin(newev,evWithHVhits)\n",
    "print(np.sum(cWithHVHits))\n",
    "print(np.shape(np.unique(evWithHVhits)))\n",
    "\n",
    "finalypos_n = hits[:,11]\n",
    "finalypos_n = finalypos_n[cZeroEdep & cNeutron & cPY3neg & cPoly]/1000 # get things in meters instead of mm\n",
    "finalypos_g = hits[:,11]\n",
    "finalypos_g = finalypos_g[cZeroEdep & cGamma & cPY3neg & cPoly]/1000 # get things in meters instead of mm\n",
    "print(np.shape(finalypos_g))\n",
    "print(finalypos_g[0:100])"
   ]
  },
  {
   "cell_type": "code",
   "execution_count": 7,
   "metadata": {},
   "outputs": [],
   "source": [
    "import pandas as pd\n",
    "\n",
    "NRhits = hits[:,[0,4,6]]\n",
    "NRhits = NRhits[~cZeroEdep & cHVDet]"
   ]
  },
  {
   "cell_type": "code",
   "execution_count": 21,
   "metadata": {},
   "outputs": [
    {
     "name": "stdout",
     "output_type": "stream",
     "text": [
      "           0     1         2\n",
      "0     2052.0  11.0  0.073041\n",
      "1    24416.0  11.0  0.735581\n",
      "2    24416.0  11.0  0.586006\n",
      "3    24416.0  11.0  0.039483\n",
      "4   149605.0  11.0  0.099736\n",
      "5   331506.0  11.0  0.044865\n",
      "6   331506.0  11.0  0.018475\n",
      "7   331506.0  11.0  0.326680\n",
      "8   396545.0  11.0  0.038561\n",
      "9   515578.0  11.0  0.012160\n",
      "10  515578.0  11.0  0.229061\n",
      "11  664291.0  11.0  0.000160\n",
      "12  664291.0  11.0  0.164225\n",
      "13  695725.0  11.0  0.130093\n",
      "14  695725.0  11.0  0.031124\n",
      "15  716253.0  22.0  0.001844\n",
      "16  716253.0  11.0  0.089064\n",
      "17  716253.0  11.0  0.016189\n",
      "18  716253.0  11.0  0.005480\n",
      "19  716253.0  11.0  0.075444\n",
      "20  716253.0  11.0  0.002547\n",
      "21  757682.0  11.0  0.027608\n",
      "22  826463.0  11.0  0.027007\n",
      "23  894315.0  11.0  0.001060\n",
      "24  894315.0  11.0  0.030582\n",
      "25  908285.0  11.0  0.019847\n",
      "0         1   \n",
      "2052.0    11.0                                      [0.07304051082]\n",
      "24416.0   11.0          [0.7355806226, 0.5860056757, 0.03948326892]\n",
      "149605.0  11.0                                      [0.09973560942]\n",
      "331506.0  11.0         [0.04486459351, 0.01847534293, 0.3266799633]\n",
      "396545.0  11.0                                      [0.03856060989]\n",
      "515578.0  11.0                         [0.01216023477, 0.229061086]\n",
      "664291.0  11.0                       [0.0001595338792, 0.164225234]\n",
      "695725.0  11.0                        [0.1300926768, 0.03112367635]\n",
      "716253.0  11.0    [0.08906361545, 0.01618901408, 0.005480488057,...\n",
      "          22.0                                           [0.001844]\n",
      "757682.0  11.0                                        [0.027607886]\n",
      "826463.0  11.0                                       [0.0270067064]\n",
      "894315.0  11.0                      [0.001060361975, 0.03058239984]\n",
      "908285.0  11.0                                      [0.01984719452]\n",
      "Name: 2, dtype: object\n",
      "[(2052.0, 11.0) (24416.0, 11.0) (149605.0, 11.0) (331506.0, 11.0)\n",
      " (396545.0, 11.0) (515578.0, 11.0) (664291.0, 11.0) (695725.0, 11.0)\n",
      " (716253.0, 11.0) (716253.0, 22.0) (757682.0, 11.0) (826463.0, 11.0)\n",
      " (894315.0, 11.0) (908285.0, 11.0)]\n",
      "5\n"
     ]
    }
   ],
   "source": [
    "print(pd.DataFrame(data=NRhits))\n",
    "print(pd.DataFrame(data=NRhits).groupby([0,1],axis=0)[2].apply(list))\n",
    "print(pd.DataFrame(data=NRhits).groupby([0,1],axis=0)[2].apply(list).index.values)\n",
    "print(np.max(pd.DataFrame(data=NRhits).groupby([0,1],axis=0).size()))"
   ]
  },
  {
   "cell_type": "code",
   "execution_count": 11,
   "metadata": {},
   "outputs": [
    {
     "name": "stdout",
     "output_type": "stream",
     "text": [
      "[0.07304051082]\n",
      "(1,)\n",
      "[0.7355806226, 0.5860056757, 0.03948326892]\n",
      "(3,)\n",
      "[0.09973560942]\n",
      "(1,)\n",
      "[0.04486459351, 0.01847534293, 0.3266799633]\n",
      "(3,)\n",
      "[0.03856060989]\n",
      "(1,)\n",
      "[0.01216023477, 0.229061086]\n",
      "(2,)\n",
      "[0.0001595338792, 0.164225234]\n",
      "(2,)\n",
      "[0.1300926768, 0.03112367635]\n",
      "(2,)\n",
      "[0.08906361545, 0.01618901408, 0.005480488057, 0.07544407764, 0.002546628628]\n",
      "(5,)\n",
      "[0.001844]\n",
      "(1,)\n",
      "[0.027607886]\n",
      "(1,)\n",
      "[0.0270067064]\n",
      "(1,)\n",
      "[0.001060361975, 0.03058239984]\n",
      "(2,)\n",
      "[0.01984719452]\n",
      "(1,)\n"
     ]
    }
   ],
   "source": [
    "\n",
    "\n",
    "for i in pd.DataFrame(data=NRhits).groupby([0,1],axis=0)[2].apply(list):\n",
    "    print(i)\n",
    "    print(np.shape(i))\n",
    "    "
   ]
  },
  {
   "cell_type": "code",
   "execution_count": null,
   "metadata": {},
   "outputs": [],
   "source": []
  }
 ],
 "metadata": {
  "kernelspec": {
   "display_name": "Python [conda env:py365]",
   "language": "python",
   "name": "conda-env-py365-py"
  },
  "language_info": {
   "codemirror_mode": {
    "name": "ipython",
    "version": 3
   },
   "file_extension": ".py",
   "mimetype": "text/x-python",
   "name": "python",
   "nbconvert_exporter": "python",
   "pygments_lexer": "ipython3",
   "version": "3.6.5"
  }
 },
 "nbformat": 4,
 "nbformat_minor": 2
}
