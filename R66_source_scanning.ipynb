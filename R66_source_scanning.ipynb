{
 "cells": [
  {
   "cell_type": "markdown",
   "metadata": {},
   "source": [
    "# Finding the Maximum Flux\n",
    "\n",
    "In previous notebooks (N-MISC-17-003 pp 27-35) I have noted that the fluxes yielded by our K100 simulation at the two flux measurement points (called \"low flux\" and \"high flux\" locations) are discrepant.  The low flux point is typically lower in simulation by a factor of approximately 5 and the high flux point is higher in simulation by a factor of approximately 4.  This means that while [Matt and Nick's analysis][MandNflux] of the flux from Run 66 show about a factor of 100 between the low flux and high flux situations, the simulation shows a factor of nearly 1600.  \n",
    "\n",
    "[MandNflux]: https://zzz.physics.umn.edu/cdms/doku.php?id=cdms:k100:run_summary:run_66:pube_activation#more_thorough_estimate_of_pube_activation_rates \"new analysis of flux measurements in Run 66\"\n",
    "\n",
    "Nevertheless, I have investigated the change of flux with small position variations in the source position.  The changes are displayed in the `R66_sim_position_shifting.ipynb` notebook in this directory and also referenced in N-MISC-17-003 pg 29.  Since those changes seem to vary sensibly we might hope that:\n",
    "\n",
    ">_even though the simulation does not match the measurements, the positional scaling will be \"somewhat indicative\" of the true flux scaling_.\n",
    "\n",
    "If that is the case then we can vary the position now and use the furthest position from the HV detector that keeps the flux reasonable to be a starting point for analyzing additional lead shielding to mitigate the gamma rate from having the source at that position.  "
   ]
  },
  {
   "cell_type": "markdown",
   "metadata": {},
   "source": [
    "## Position Parameterization\n",
    "\n",
    "The basic idea is to use a position close to the high flux point and the low flux point as endpoints of a line along which to do several simulations of the source to see if there's a place that has a flux in the 1$\\,$n/cm$^2$s range according to the simulation.  At that point we can try to vary the shielding to include a reasonable amount of lead near the source so that the NaI detector rate is reasonable.  We can also use the variation along the source line to form an intuitive picture for how the flux behaves. "
   ]
  },
  {
   "cell_type": "code",
   "execution_count": 10,
   "metadata": {},
   "outputs": [
    {
     "name": "stdout",
     "output_type": "stream",
     "text": [
      "[ 0.   3.3  0. ]\n",
      "[  0.      14.9431  -6.4679]\n",
      "[  0.      26.5862 -12.9358]\n",
      "[  0.      38.2293 -19.4037]\n",
      "[  0.      49.8724 -25.8716]\n",
      "[  0.      61.5155 -32.3395]\n",
      "[  0.      73.1586 -38.8074]\n",
      "[  0.      84.8017 -45.2753]\n",
      "[  0.      96.4448 -51.7432]\n",
      "[   0.      108.0879  -58.2111]\n",
      "[   0.     119.731  -64.679]\n"
     ]
    }
   ],
   "source": [
    "import numpy as np\n",
    "\n",
    "#first we need the endpoints -- label 'h' for high flux\n",
    "xh = 0 #cm\n",
    "yh = 3.3 #N-MISC-17-003 pg 29, #trelloP1\n",
    "zh = 0 #should be near detector height\n",
    "p_h = np.asarray([xh,yh,zh],dtype=np.float64)\n",
    "\n",
    "#see the file templates/Run66Shield_stdLocation_inBarrel.mac.template for the standard position point--label\n",
    "#'l' for low flux\n",
    "xl = 0 #cm\n",
    "yl = 119.731\n",
    "zl = -64.679\n",
    "p_l = np.asarray([xl,yl,zl],dtype=np.float64)\n",
    "\n",
    "#get unit vector pointing from high flux to low flux\n",
    "ltot = np.linalg.norm(p_l-p_h)\n",
    "uvec = (p_l-p_h)/ltot\n",
    "\n",
    "#chop up the region\n",
    "N = 10\n",
    "for i in np.arange(N+1):\n",
    "    d = ltot/np.float(N)\n",
    "    vec = p_h + i*d*uvec\n",
    "    print(vec)\n"
   ]
  },
  {
   "cell_type": "code",
   "execution_count": null,
   "metadata": {},
   "outputs": [],
   "source": []
  }
 ],
 "metadata": {
  "kernelspec": {
   "display_name": "Python [conda env:py36]",
   "language": "python",
   "name": "conda-env-py36-py"
  },
  "language_info": {
   "codemirror_mode": {
    "name": "ipython",
    "version": 3
   },
   "file_extension": ".py",
   "mimetype": "text/x-python",
   "name": "python",
   "nbconvert_exporter": "python",
   "pygments_lexer": "ipython3",
   "version": "3.6.1"
  }
 },
 "nbformat": 4,
 "nbformat_minor": 2
}
