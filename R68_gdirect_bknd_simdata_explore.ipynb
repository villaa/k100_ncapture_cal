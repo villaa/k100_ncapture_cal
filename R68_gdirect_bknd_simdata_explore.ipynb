{
 "cells": [
  {
   "cell_type": "markdown",
   "metadata": {},
   "source": [
    "# First-Cut Run 68 $\\gamma$ and Neutron Direct Backgrounds\n",
    "\n",
    "My notebook N-MISC-18-003 shows (pgs 49 and 51) simulations that were started to assess the direct gamma and neutron backgrounds for a Pu/Be source running in the K100 Run 68 setup. Specifically testing out the .h5 files created using the scripts mentioned on pg 52 of the above notebook reference. "
   ]
  },
  {
   "cell_type": "code",
   "execution_count": 1,
   "metadata": {},
   "outputs": [
    {
     "name": "stdout",
     "output_type": "stream",
     "text": [
      "geant4\n"
     ]
    }
   ],
   "source": [
    "#play around with some hits data stored in h5 file\n",
    "#===============to suppress h5py warning see:\n",
    "#https://github.com/h5py/h5py/issues/961\n",
    "import warnings\n",
    "warnings.simplefilter(action='ignore', category=FutureWarning)\n",
    "import h5py\n",
    "warnings.resetwarnings()\n",
    "f = h5py.File(\"/data/chocula/villaa/k100Sim_Data/captureCalhdf5/Run68_gdirect_bknd_R68_PuBe_0x0005_1549439935.h5\",\"r\")\n",
    "\n",
    "for i in f:\n",
    "    print(i)\n",
    "\n",
    "hits = f['geant4/hits']"
   ]
  },
  {
   "cell_type": "code",
   "execution_count": 2,
   "metadata": {},
   "outputs": [
    {
     "name": "stdout",
     "output_type": "stream",
     "text": [
      "(1838004, 22)\n",
      "[ 8.20000000e+01  1.00000000e+03  1.00118000e+05  0.00000000e+00\n",
      "  2.11200000e+03  3.00721013e-08  0.00000000e+00  6.60568498e-03\n",
      "  5.19294799e-03 -7.57669727e-03 -2.64559290e+02 -3.98541790e+02\n",
      "  6.19032837e+02  3.48247508e+06  6.44645682e-03  1.65848813e-03\n",
      "  3.49313911e-03 -2.79400000e+02 -4.02359879e+02  6.10991107e+02\n",
      "  3.47526002e+06  0.00000000e+00]\n"
     ]
    }
   ],
   "source": [
    "import numpy as np\n",
    "print(np.shape(hits))\n",
    "print(hits[0,:])"
   ]
  },
  {
   "cell_type": "code",
   "execution_count": 3,
   "metadata": {},
   "outputs": [
    {
     "name": "stdout",
     "output_type": "stream",
     "text": [
      "[0. 0. 0. 0. 0. 0. 0. 0. 0. 0. 0. 0. 0. 0. 0. 0. 1. 1. 1. 1. 1. 1. 1. 1.\n",
      " 1. 1. 1. 1. 1. 1. 2. 2. 2. 2. 2. 2. 2. 2. 2. 2. 2. 2. 2. 3. 4. 4. 4. 4.\n",
      " 4. 4. 4. 4. 4. 5. 5. 5. 5. 6. 6. 6. 6. 6. 6. 6. 7. 7. 7. 7. 7. 7. 7. 7.\n",
      " 7. 7. 7. 7. 7. 7. 7. 7. 7. 7. 7. 7. 7. 7. 7. 7. 7. 7. 7. 7. 7. 7. 7. 7.\n",
      " 7. 7. 7. 7. 7. 7. 7. 7. 7. 7. 7. 7. 7. 7. 7. 7. 7. 7. 7. 7. 7. 7. 7. 7.\n",
      " 7. 7. 7. 7. 7. 7. 7. 7. 7. 7. 7. 7. 7. 7. 7. 7. 7. 7. 7. 7. 7. 7. 7. 7.\n",
      " 7. 7. 7. 7. 7. 7. 7. 7. 7. 7. 7. 7. 7. 7. 7. 7. 7. 7. 7. 7. 7. 7. 7. 7.\n",
      " 7. 7. 7. 7. 7. 7. 7. 7. 7. 7. 7. 7. 7. 7. 7. 7. 7. 7. 7. 7. 7. 7. 7. 7.\n",
      " 7. 7. 7. 7. 7. 7. 7. 7. 7. 7. 7. 7. 7. 7. 7. 7. 7. 7. 7. 7. 7. 7. 7. 7.\n",
      " 7. 7. 7. 7. 7. 7. 7. 7. 7. 7. 7. 7. 7. 7. 7. 7. 7. 7. 7. 7. 7. 7. 7. 7.\n",
      " 7. 7. 7. 7. 7. 7. 7. 7. 7. 7. 7. 7. 7. 7. 7. 7. 7. 7. 7. 7. 7. 7. 7. 7.\n",
      " 7. 7. 7. 7. 7. 7. 7. 7. 7. 7. 7. 7. 7. 7. 7. 8. 8. 8. 8. 8. 8. 9. 9. 9.\n",
      " 9. 9. 9. 9. 9. 9. 9. 9. 9. 9. 9. 9.]\n"
     ]
    }
   ],
   "source": [
    "#try to label events with consecutive and unique labels\n",
    "ev = hits[:,0]\n",
    "\n",
    "diffs = np.append(np.diff(ev),1)\n",
    "diff_divide = np.copy(diffs)\n",
    "diff_divide[diff_divide==0] = 1 #replace some elements with unity\n",
    "diffs = diffs/diff_divide\n",
    "#print(diffs[0:300])\n",
    "#print(diff_divide[0:300])\n",
    "\n",
    "newev = np.cumsum(diffs)\n",
    "print(newev[0:300])"
   ]
  },
  {
   "cell_type": "code",
   "execution_count": 4,
   "metadata": {},
   "outputs": [
    {
     "name": "stdout",
     "output_type": "stream",
     "text": [
      "769238\n",
      "(1838004,)\n",
      "(1838004, 22)\n"
     ]
    }
   ],
   "source": [
    "#select the poly block\n",
    "cPoly = np.zeros(np.shape(hits)[0],dtype=bool)\n",
    "\n",
    "\n",
    "cPoly[(hits[:,1]==1000) & (hits[:,6]==0) & (hits[:,4]==2112)] = True\n",
    "print(np.sum(cPoly))\n",
    "print(np.shape(cPoly))\n",
    "print(np.shape(hits))"
   ]
  },
  {
   "cell_type": "code",
   "execution_count": 5,
   "metadata": {},
   "outputs": [],
   "source": [
    "#reminder of file structure\n",
    "#EV  DT  TS  P Type  E1  D3  PX3 PY3 PZ3 X3  Y3  Z3  time3 PX1 PY1 PZ1 X1  Y1  Z1  time1 nCap\n",
    "#python index below\n",
    "#0    1   2 3   4     5   6   7   8   9  10  11  12    13   14  15  16 17  18  19   20    21"
   ]
  },
  {
   "cell_type": "code",
   "execution_count": 6,
   "metadata": {},
   "outputs": [
    {
     "name": "stdout",
     "output_type": "stream",
     "text": [
      "(771657,)\n"
     ]
    }
   ],
   "source": [
    "#I want to find the edges in Y because those are the places the poly surfaces that I'm interested in are.\n",
    "#I can do that by a histogram\n",
    "\n",
    "#first some cuts\n",
    "cZeroEdep = np.zeros(np.shape(hits)[0],dtype=bool)\n",
    "cNeutron = np.zeros(np.shape(hits)[0],dtype=bool)\n",
    "cGamma = np.zeros(np.shape(hits)[0],dtype=bool)\n",
    "\n",
    "cZeroEdep[hits[:,6]==0] = True\n",
    "cNeutron[hits[:,4]==2112] = True\n",
    "cGamma[hits[:,4]==22] = True\n",
    "\n",
    "finalypos = hits[:,11]\n",
    "finalypos = finalypos[cZeroEdep & cNeutron & cPoly]/1000 # get things in meters instead of mm\n",
    "print(np.shape(finalypos))"
   ]
  },
  {
   "cell_type": "code",
   "execution_count": 7,
   "metadata": {},
   "outputs": [],
   "source": [
    "ymax = 1\n",
    "n,nx = np.histogram(finalypos,1000,range=(-ymax,+ymax))\n",
    "\n",
    "xc = (nx[:-1] + nx[1:]) / 2"
   ]
  },
  {
   "cell_type": "code",
   "execution_count": 8,
   "metadata": {},
   "outputs": [],
   "source": [
    "#set up a plot \n",
    "import matplotlib as mpl\n",
    "from matplotlib import pyplot as plt\n",
    "#got smarter about the mpl config: see mplstyles/ directory\n",
    "plt.style.use('standard')"
   ]
  },
  {
   "cell_type": "code",
   "execution_count": 9,
   "metadata": {},
   "outputs": [
    {
     "data": {
      "image/png": "[encoded data removed]",
      "text/plain": [
       "<Figure size 648x576 with 1 Axes>"
      ]
     },
     "metadata": {},
     "output_type": "display_data"
    }
   ],
   "source": [
    "#set up a 1d plot\n",
    "fig,axes = plt.subplots(1,1,figsize=(9.0,8.0),sharex=True)\n",
    "ax1 = axes\n",
    "\n",
    "\n",
    "ax1.step(xc,n, where='mid',color='k', linestyle='-', \\\n",
    "         label='y-positions', linewidth=2)\n",
    "\n",
    "\n",
    "\n",
    "#tlabel = 'Thresh. {0} eV$_{{\\mathrm{{ee}}}}$'.format(18)\n",
    "#ax1.axvline(thresh, color='k', linestyle='--', lw=2, alpha=0.8,label=tlabel)\n",
    "#erange_x = np.arange(thresh-sigthr, thresh+sigthr, 0.01)\n",
    "#ax1.fill_between(erange_x, ymin, ymax, facecolor='r', alpha=0.3)\n",
    "\n",
    "ax1.set_yscale('log')\n",
    "ax1.set_xlim(-ymax, ymax) #in pairs\n",
    "ax1.set_ylim(0.1,1e3)\n",
    "ax1.set_xlabel('y-position [m]',**axis_font)\n",
    "ax1.set_ylabel('counts',**axis_font)\n",
    "ax1.grid(True)\n",
    "ax1.yaxis.grid(True,which='minor',linestyle='--')\n",
    "ax1.legend(loc=1,prop={'size':22})\n",
    "\n",
    "for axis in ['top','bottom','left','right']:\n",
    "  ax1.spines[axis].set_linewidth(2)\n",
    "\n",
    "plt.tight_layout()\n",
    "#plt.savefig('figures/figure.png')\n",
    "plt.show()"
   ]
  },
  {
   "cell_type": "code",
   "execution_count": null,
   "metadata": {},
   "outputs": [],
   "source": []
  }
 ],
 "metadata": {
  "kernelspec": {
   "display_name": "Python [conda env:py365]",
   "language": "python",
   "name": "conda-env-py365-py"
  },
  "language_info": {
   "codemirror_mode": {
    "name": "ipython",
    "version": 3
   },
   "file_extension": ".py",
   "mimetype": "text/x-python",
   "name": "python",
   "nbconvert_exporter": "python",
   "pygments_lexer": "ipython3",
   "version": "3.6.5"
  }
 },
 "nbformat": 4,
 "nbformat_minor": 2
}
